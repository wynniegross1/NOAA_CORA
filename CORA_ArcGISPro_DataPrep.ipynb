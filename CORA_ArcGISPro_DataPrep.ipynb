{
 "cells": [
  {
   "cell_type": "code",
   "execution_count": null,
   "id": "9c148aa3",
   "metadata": {},
   "outputs": [
    {
     "name": "stderr",
     "output_type": "stream",
     "text": [
      "Interpolating hourly surge: 100%|██████████| 48/48 [12:43<00:00, 15.91s/it]"
     ]
    },
    {
     "name": "stdout",
     "output_type": "stream",
     "text": [
      "✅ Saved: irma_surge_surface2.nc (Multidimensional Raster–ready)\n"
     ]
    },
    {
     "name": "stderr",
     "output_type": "stream",
     "text": [
      "\n"
     ]
    }
   ],
   "source": [
    "##################################################################\n",
    "########### FINAL SCRIPT TO CONVERT CORA TO GIS FILE #############\n",
    "##################################################################\n",
    "\n",
    "import numpy as np\n",
    "import s3fs\n",
    "import xarray as xr\n",
    "from scipy.interpolate import griddata\n",
    "from tqdm import tqdm\n",
    "\n",
    "# Tampa bounding box (can adjust for a user-specified ROI)\n",
    "LON_MIN, LON_MAX = -82.7, -82.2\n",
    "LAT_MIN, LAT_MAX = 27.7, 28.2\n",
    "\n",
    "# Regular grid over Tampa\n",
    "lon_grid = np.linspace(LON_MIN, LON_MAX, 500) #grid size is 500 - fairly fine resolution but can make coarser/finer depending on runtime!\n",
    "lat_grid = np.linspace(LAT_MIN, LAT_MAX, 500)\n",
    "lon2d, lat2d = np.meshgrid(lon_grid, lat_grid)\n",
    "\n",
    "# CORA hourly surge file (change the year at the end if the time frame is different)\n",
    "S3_PATH = \"noaa-nos-cora-pds/V1.1/assimilated/native_grid/fort.63_2017.nc\"\n",
    "\n",
    "# Time window: Sept 9–12, 2017 (change for specific use-case)\n",
    "START = \"2017-09-10T00:00:00\"\n",
    "END   = \"2017-09-11T23:00:00\"\n",
    "\n",
    "# Load CORA hourly surge from S3\n",
    "fs = s3fs.S3FileSystem(anon=True)\n",
    "with fs.open(S3_PATH, 'rb') as file:\n",
    "    with xr.open_dataset(file) as ds_raw:\n",
    "        ds = ds_raw.sel(time=slice(START, END))\n",
    "        x = ds[\"x\"].values\n",
    "        y = ds[\"y\"].values\n",
    "        times = ds[\"time\"].values\n",
    "\n",
    "        # Build 3D surface cube: [time, lat, lon]\n",
    "        surface_stack = []\n",
    "\n",
    "        for t in tqdm(times, desc=\"Interpolating hourly surge\"):\n",
    "            zeta = ds[\"zeta\"].sel(time=t).compute()\n",
    "            surge_interp = griddata(\n",
    "                (x, y),\n",
    "                zeta.values,\n",
    "                (lon2d, lat2d),\n",
    "                method=\"nearest\"\n",
    "            )\n",
    "            surface_stack.append(surge_interp)\n",
    "\n",
    "        # Package into DataArray\n",
    "        da_surface = xr.DataArray(\n",
    "            np.array(surface_stack),\n",
    "            coords={\n",
    "                \"time\": times,\n",
    "                \"lat\": lat_grid,\n",
    "                \"lon\": lon_grid\n",
    "            },\n",
    "            dims=[\"time\", \"lat\", \"lon\"],\n",
    "            name=\"surge_elevation\"\n",
    "        )\n",
    "\n",
    "        # Metadata for ArcGIS Pro\n",
    "        da_surface.attrs.update({\n",
    "            \"units\": \"meters\",\n",
    "            \"long_name\": \"Surge elevation\",\n",
    "            \"_FillValue\": -9999.0\n",
    "        })\n",
    "        da_surface[\"lat\"].attrs.update({\"units\": \"degrees_north\", \"_FillValue\": -9999.0})\n",
    "        da_surface[\"lon\"].attrs.update({\"units\": \"degrees_east\", \"_FillValue\": -9999.0})\n",
    "        da_surface[\"time\"].attrs.pop(\"units\", None)\n",
    "        da_surface[\"time\"].encoding[\"units\"] = \"hours since 2017-09-09 00:00:00\"\n",
    "\n",
    "        # Export NetCDF\n",
    "        ds_out = xr.Dataset({\"surge_elevation\": da_surface})\n",
    "        ds_out.attrs[\"title\"] = \"Hurricane Irma Surge Surface - Tampa\"\n",
    "        ds_out.attrs[\"description\"] = \"Hourly surge elevation over Tampa Bay during Hurricane Irma (Sept 9–12, 2017)\"\n",
    "\n",
    "        ds_out.to_netcdf(\"C:/Users/wyn14279/Documents/irma_surge_surface2.nc\")\n",
    "        print(\"✅ Saved: irma_surge_surface2.nc (Multidimensional Raster–ready)\")"
   ]
  }
 ],
 "metadata": {
  "kernelspec": {
   "display_name": "Python 3",
   "language": "python",
   "name": "python3"
  },
  "language_info": {
   "codemirror_mode": {
    "name": "ipython",
    "version": 3
   },
   "file_extension": ".py",
   "mimetype": "text/x-python",
   "name": "python",
   "nbconvert_exporter": "python",
   "pygments_lexer": "ipython3",
   "version": "3.11.11"
  }
 },
 "nbformat": 4,
 "nbformat_minor": 5
}
